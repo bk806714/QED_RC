{
 "cells": [
  {
   "cell_type": "markdown",
   "id": "round-remove",
   "metadata": {},
   "source": [
    "# SIDIS QED calculation"
   ]
  },
  {
   "cell_type": "code",
   "execution_count": 1,
   "id": "hundred-roulette",
   "metadata": {},
   "outputs": [],
   "source": [
    "import sys,os,time\n",
    "import numpy as np\n",
    "from numba import jit\n",
    "os.environ['MPLCONFIGDIR'] = os.getcwd() + \"/configs/\"\n",
    "import matplotlib\n",
    "matplotlib.rcParams['text.latex.preamble']=r\"\\usepackage{bm} \\usepackage{amsmath}\"\n",
    "matplotlib.rc('text',usetex=True)\n",
    "from matplotlib.legend_handler import HandlerLine2D\n",
    "from matplotlib.colors import LogNorm\n",
    "import pylab as py\n",
    "new_path=\"/u/home/karki/.local/lib/python3.8/site-packages\"\n",
    "sys.path.append(new_path)\n",
    "\n"
   ]
  },
  {
   "cell_type": "code",
   "execution_count": null,
   "id": "crazy-white",
   "metadata": {},
   "outputs": [],
   "source": [
    "## load sidis stfs\n",
    "note: we use numba library. The first execution of the functions will be slow. After that they are compilled and fast"
   ]
  },
  {
   "cell_type": "code",
   "execution_count": 2,
   "id": "circular-disney",
   "metadata": {},
   "outputs": [],
   "source": [
    "os.environ[\"stflib\"] = \"./stflib\"\n",
    "from stflib import FUU,FUTsiv,FUTcol\n",
    "import matplotlib.pyplot as plt\n",
    "import matplotlib.ticker as ticker\n",
    "import params as par\n",
    "import alfa\n",
    "import dglap\n",
    "from   tools import lprint"
   ]
  },
  {
   "cell_type": "code",
   "execution_count": 21,
   "id": "banned-establishment",
   "metadata": {},
   "outputs": [
    {
     "data": {
      "image/png": "[encoded data removed]",
      "text/plain": [
       "<Figure size 432x288 with 1 Axes>"
      ]
     },
     "metadata": {
      "needs_background": "light"
     },
     "output_type": "display_data"
    }
   ],
   "source": [
    "import matplotlib.pyplot as plt\n",
    "import pandas as pd\n",
    "os.chdir(\"/w/halla-scifs17exp/dvcs/disk1/bishnu/DUKE/Cherenkov/maroc_mirazita/solid\")\n",
    "#os.chdir(\"/w/halla-scifs17exp/dvcs/disk1/bishnu/ForBo/fadc\")\n",
    "\n",
    "#df0=pd.read_csv(\"./lucite_newSetting_2396_fadc.ml\",sep=\"\\t\", index_col=0, header=None)\n",
    "#df0=pd.read_csv(\"./lucite_bgLED_newSetting_117khz_2464_fadc.ml\",sep=\"\\t\", index_col=0, header=None)\n",
    "#df0=pd.read_csv(\"./lucite_bgLED_newSetting_190khz_2456_fadc.ml\",sep=\"\\t\", index_col=0, header=None)\n",
    "#df0=pd.read_csv(\"./lucite_bgLED_newSetting_320khz_2422_fadc.ml\",sep=\"\\t\", index_col=0, header=None)\n",
    "\n",
    "#df1=pd.read_csv(\"./bgLED_320_run2427_fadc.ml\",sep=\"\\t\", index_col=0, header=None)\n",
    "#df2=pd.read_csv(\"./bgLED_190_run2454_fadc.ml\",sep=\"\\t\", index_col=0, header=None)\n",
    "#df3=pd.read_csv(\"./bgLED_117_run2460_fadc.ml\",sep=\"\\t\", index_col=0, header=None)\n",
    "\n",
    "df0=pd.read_csv(\"./bgLED_run165_fadc_LED.ml\",sep=\"\\t\", index_col=0, header=None)\n",
    "\n",
    "#df['Total']=df.loc[:,1:].apply(np.sum,axis=1)\n",
    "df0['Total'] = df0.apply(np.sum, axis=1)\n",
    "#df1['Total'] = df1.apply(np.sum, axis=1)\n",
    "#df2['Total'] = df2.apply(np.sum, axis=1)\n",
    "#df3['Total'] = df3.apply(np.sum, axis=1)\n",
    "max_range=5\n",
    "\n",
    "\n",
    "#df0.hist(column='Total',bins=100,range=(1,max_range), color='b')\n",
    "df0.hist(column='Total',bins=100,range=(0,max_range), color='b')\n",
    "plt.show()\n",
    "#df.head(10)"
   ]
  },
  {
   "cell_type": "markdown",
   "id": "professional-phone",
   "metadata": {},
   "source": [
    "## load QED evolution scripts"
   ]
  },
  {
   "cell_type": "code",
   "execution_count": 70,
   "id": "numeric-browser",
   "metadata": {},
   "outputs": [
    {
     "data": {
      "image/png": "[encoded data removed]",
      "text/plain": [
       "<Figure size 432x288 with 1 Axes>"
      ]
     },
     "metadata": {
      "needs_background": "light"
     },
     "output_type": "display_data"
    }
   ],
   "source": [
    "df2.hist(column='Total',bins=100,range=(1,max_range), color='r')\n",
    "plt.show()"
   ]
  },
  {
   "cell_type": "code",
   "execution_count": 3,
   "id": "seasonal-request",
   "metadata": {},
   "outputs": [
    {
     "name": "stdout",
     "output_type": "stream",
     "text": [
      "3\n"
     ]
    }
   ],
   "source": [
    "#df3.hist(column='Total',bins=100,range=(1,max_range), color='g')\n",
    "#plt.show()\n",
    "import math\n",
    "Q2=3.54\n",
    "Q2F=math.floor(Q2)\n",
    "print(Q2F)"
   ]
  },
  {
   "cell_type": "markdown",
   "id": "matched-bones",
   "metadata": {},
   "source": [
    "## integrand"
   ]
  },
  {
   "cell_type": "code",
   "execution_count": 32,
   "id": "spoken-concert",
   "metadata": {},
   "outputs": [],
   "source": [
    "@jit(nopython=True)\n",
    "\n",
    "def FUUT_modification(qT_Q,Q,FUUT_nomod,N=20, ctail=0.01):\n",
    "    R=np.exp(-N * np.power(qT_Q,3))\n",
    "    qT=Q*qT_QM\n",
    "    F_Tail=ctail/qT**2\n",
    "    FUU_mod_in=FUUT_nomod*R + (1 - R)*F_Tail\n",
    "    return FUU_mod_in\n",
    "\n",
    "@jit(nopython=True)    \n",
    "def get_int0(xi,zeta,kinematics,iupol,isiv,icol,rotation=1):\n",
    "    \"\"\" \n",
    "     _..._ stands for non RC quantities \n",
    "     \"\"\"\n",
    "    \n",
    "    M =par.M ## mass of proton 0.938 GeV\n",
    "    M_h=par.Mpi ## mass of pion 0.134 GeV\n",
    "    \n",
    "     \n",
    "   # print(\"Who is this\", M,\" m and h\", M_h)\n",
    "    \n",
    "    #--retrieve & build non RC quantities\n",
    "    _s_        =kinematics[0]\n",
    "    _Q_        =kinematics[1]\n",
    "    _x_        =kinematics[2]\n",
    "    _y_        =kinematics[3]\n",
    "    _z_        =kinematics[4]\n",
    "    _PhT_      =kinematics[5]\n",
    "    _cos_phih_ =kinematics[6]\n",
    "    _cos_phis_ =kinematics[7]\n",
    "    _sin_phih_ =kinematics[8]\n",
    "    _sin_phis_ =kinematics[9]\n",
    "    _ST_       =kinematics[10]\n",
    "\n",
    "    _l1T2_   = _Q_**2*(-M**2*_x_**2*_y_**2 - _Q_**2*_y_ + _Q_**2)/(_y_**2*(4*M**2*_x_**2 + _Q_**2))\n",
    "    _l1T_     = np.sqrt(_l1T2_)\n",
    "\n",
    "    _qdotPh_ = _Q_*(_Q_**3*_z_ - np.sqrt(-(4*M**2*_x_**2 + _Q_**2)*(4*M**2*M_h**2*_x_**2 + 4*M**2*_PhT_**2*_x_**2 - _Q_**4*_z_**2)))/(4*M**2*_x_**2)\n",
    "    _l1dotPh_= (-4*M**2*_PhT_*_l1T_*_x_**2*_y_*_cos_phih_ + 2*M**2*_x_**2*_y_*_qdotPh_ - \\\n",
    "               _PhT_*_Q_**2*_l1T_*_y_*_cos_phih_ - _Q_**4*_y_*_z_/2 + _Q_**4*_z_ + _Q_**2*_qdotPh_)/(_y_*(4*M**2*_x_**2 + _Q_**2)) \n",
    "    _l2dotPh_=_l1dotPh_-_qdotPh_ \n",
    "\n",
    "    _qdotS_  = -_Q_*np.sqrt(-(_ST_ - 1)*(_ST_ + 1)*(4*M**2*_x_**2 + _Q_**2))/(2*M*_x_)    \n",
    "    _l1dotS_ = (-4*M**2*_ST_*_l1T_*_x_**2*_y_*_cos_phis_ + 2*M**2*_x_**2*_y_*_qdotS_\\\n",
    "               - _Q_**2*_ST_*_l1T_*_y_*_cos_phis_ + _Q_**2*_qdotS_)/(_y_*(4*M**2*_x_**2 + _Q_**2))  \n",
    "\n",
    "    _l2dotS_=_l1dotS_-_qdotS_ \n",
    "\n",
    "    _eps_Pl1l2Ph_=-_PhT_*_Q_**2*_l1T_*np.sqrt(4*M**2*_x_**2/_Q_**2 + 1)*_sin_phih_/(2*_x_)\n",
    "    _eps_Pl1l2S_ =-_ST_ *_Q_**2*_l1T_*np.sqrt(4*M**2*_x_**2/_Q_**2 + 1)*_sin_phis_/(2*_x_)\n",
    "\n",
    "\n",
    "    #--build RC kinematic quantities\n",
    "    s        = xi*_s_\n",
    "    x        = _Q_**2*_x_*xi*_y_/(_Q_**2*(xi*zeta + _y_ - 1))\n",
    "    y        = (xi*zeta + _y_ - 1)/(xi*zeta)\n",
    "    z        = _y_*_z_*zeta/(xi*zeta + _y_ - 1)\n",
    "    Q2       = _Q_**2*xi/zeta\n",
    "    Q        = np.sqrt(Q2)        \n",
    "    gam2     = (2*M*x)**2/Q2\n",
    "    gam      = np.sqrt(gam2)\n",
    "    \n",
    "    l1T2     = Q**2*(-M**2*x**2*y**2 - Q**2*y + Q**2)/(y**2*(4*M**2*x**2 + Q**2))\n",
    "    l1T      = np.sqrt(l1T2)\n",
    "\n",
    "    l1dotPh  = xi*_l1dotPh_\n",
    "    l2dotPh  = _l2dotPh_/zeta\n",
    "    l1dotS   = xi*_l1dotS_\n",
    "    l2dotS   = _l2dotS_/zeta\n",
    "\n",
    "    eps_Pl1l2Ph = (xi/zeta)*_eps_Pl1l2Ph_\n",
    "    eps_Pl1l2S  = (xi/zeta)*_eps_Pl1l2S_\n",
    "\n",
    "    qdotPh   = l1dotPh-l2dotPh \n",
    "    qdotS    = l1dotS-l2dotS \n",
    "\n",
    "    PhT2     = (-4*M**2*M_h**2*Q**2*x**2 - 4*M**2*x**2*qdotPh**2 - M_h**2*Q**4 + Q**6*z**2 + 2*Q**4*z*qdotPh)/(Q**2*(4*M**2*x**2 + Q**2))\n",
    "    PhT      = np.sqrt(np.abs(PhT2))\n",
    "    if  rotation==0: PhT=_PhT_\n",
    "       \n",
    "    ST2      = (4*M**2*Q**2*x**2 - 4*M**2*x**2*qdotS**2 + Q**4)/(Q**2*(4*M**2*x**2 + Q**2))\n",
    "    ST       = np.sqrt(np.abs(ST2))\n",
    "    Spar     = 2*M*x*qdotS/(Q**2*np.sqrt(4*M**2*x**2/Q**2 + 1))\n",
    "\n",
    "    cos_phih = (4*M**2*x**2*y*qdotPh - Q**4*y*z + 2*Q**2*(Q**2*z + qdotPh)- 2*y*(4*M**2*x**2 + Q**2)*l1dotPh)/(2*PhT*l1T*y*(4*M**2*x**2 + Q**2))                    \n",
    "    cos_phis = (2*M**2*x**2*y*qdotS + Q**2*qdotS-y*(4*M**2*x**2 + Q**2)*l1dotS)/(ST*l1T*y*(4*M**2*x**2 + Q**2))\n",
    "\n",
    "    sin_phih = -2*x*eps_Pl1l2Ph/(PhT*Q**2*l1T*np.sqrt(4*M**2*x**2/Q**2 + 1))\n",
    "    sin_phis = -2*x*eps_Pl1l2S /( ST*Q**2*l1T*np.sqrt(4*M**2*x**2/Q**2 + 1))\n",
    "\n",
    "    if iupol==1:\n",
    "        FUU_ = FUU.get_FUU(x,z,Q2,PhT,'p','pi+') \n",
    "    else:        FUU_ = 0\n",
    "        \n",
    "    qT_Q=PhT/z/Q   \n",
    "    #FUU_ = FUUT_modification(qT_Q,Q,FUU_)\n",
    "    if isiv==1: FUTsiv_ = FUTsiv.get_FUT(x,z,Q2,PhT,'p','pi+')\n",
    "    else:       FUTsiv_ = 0\n",
    "\n",
    "    if icol==1: FUTcol_ = FUTcol.get_FUT(x,z,Q2,PhT,'p','pi+')    \n",
    "    else:       FUTcol_ = 0\n",
    "      \n",
    "    \n",
    "    #print(\"{0:.2f}\".format(Q2))\n",
    "    #f = open(\"Unp_Q{}_rs140_const_alpha_QED.txt\".format(Q), \"w\")\n",
    "    \n",
    "    print(\"  \",xi,\" \",zeta, \"  \",x,\"  \", Q2,\"  \",PhT,\"  \",z, \" \", FUU_)\n",
    "    #print(zeta,\"\\t\", x,\"\\t\", Q2,\"\\t\",PhT,\"\\t\",\" \\t \",z)\n",
    "   \n",
    "    \n",
    "    \n",
    "    eps  = (1-y-0.25*gam2*y**2)/(1-y+0.5*y**2+0.25*gam2*y**2)\n",
    "    eps_B=(1-y)/(1-y+0.5*y**2)\n",
    "    jac  = x/_x_/xi/zeta \n",
    "   # if running_alpha_QED==1:\n",
    "    #norm = alfa.get_alfa(Q2)**2/(x*y*Q2) * y**2/2/(1-eps) * (1+gam2/2/x)\n",
    "    #else: \n",
    "    norm =par.alfa0**2/(x*y*Q2) * y**2/2/(1-eps) * (1+gam2/2/x)\n",
    "    #print(eps,\"\\t\",eps_B)    \n",
    "    phase_sivers  = sin_phih*cos_phis - sin_phis*cos_phih\n",
    "    phase_collins = sin_phih*cos_phis + sin_phis*cos_phih\n",
    "\n",
    "\n",
    "    out=jac*norm*(FUU_ + ST*phase_sivers*FUTsiv_ + ST*eps*phase_collins*FUTcol_)\n",
    "    #print(\"I am integrand integ_0\",ST, eps, phase_collins, out)\n",
    "    return out\n",
    "\n",
    "\n",
    "@jit(nopython=True)\n",
    "def get_xi_min(zeta,kinematics):\n",
    "    y,x,z=kinematics[3],kinematics[2],kinematics[4]\n",
    "    return max([(1-y+z*zeta*y)/zeta,(1-y)/(zeta-x*y)])\n",
    "\n",
    "@jit(nopython=True)\n",
    "def get_zeta_min(kinematics):\n",
    "    y,x,z=kinematics[3],kinematics[2],kinematics[4]\n",
    "    return max([(1-y)/(1-z*y),1-y+x*y])   \n",
    "## integrand with 3rd term with LDF (xi)\n",
    "@jit(nopython=True)\n",
    "def get_box(xi,zeta,kinematics,F,jac_xi,mu2,iupol,isiv,icol,rotation=1):\n",
    "    xi_min =get_xi_min(zeta,kinematics)\n",
    "    LDF    =dglap.get_LDF(xi,F,mod=False)\n",
    "    LDF2   =dglap.get_LDF(xi_min,F,mod=True)\n",
    "    int0_xi_zeta =get_int0(xi,zeta,kinematics,iupol,isiv,icol,rotation)\n",
    "    int0_one_zeta=get_int0(1,zeta,kinematics,iupol,isiv,icol,rotation)\n",
    "    return LDF*(int0_xi_zeta-int0_one_zeta)*jac_xi +int0_one_zeta*xi_min*LDF2\n",
    "## integrand zeta, xi and 3rd term \n",
    "@jit(nopython=True)\n",
    "def get_integrand0(X,kinematics,F,D,iupol,isiv,icol,rotation=1):\n",
    "    mu2=kinematics[1]**2 #Q2\n",
    "    zeta_min=get_zeta_min(kinematics)\n",
    "    jac_zeta=1-zeta_min\n",
    "    zeta=zeta_min + X[0]*jac_zeta\n",
    "\n",
    "    xi_min=get_xi_min(zeta,kinematics)\n",
    "    jac_xi=1-xi_min\n",
    "    xi=xi_min + X[1]*jac_xi\n",
    "    \n",
    "\n",
    "    LFF =dglap.get_LFF(zeta,D,mod=False)\n",
    "    LFF2=dglap.get_LFF(zeta_min,D,mod=True)\n",
    "        \n",
    "    box_xi_zeta=get_box(xi,zeta,kinematics,F,jac_xi,mu2,iupol,isiv,icol,rotation)\n",
    "    box_xi_one =get_box(xi,1,kinematics,F,jac_xi,mu2,iupol,isiv,icol,rotation)\n",
    "\n",
    "    theta=1\n",
    "    if xi<get_xi_min(1,kinematics): theta=0\n",
    "    integrand=LFF*(box_xi_zeta-box_xi_one*theta)*jac_zeta + box_xi_one*theta*zeta_min*LFF2\n",
    "    #print(box_xi_zeta,box_xi_one,integrand)\n",
    "    \n",
    "    return integrand\n",
    "## term with\n",
    "@jit(nopython=True)\n",
    "def get_integrand1(X,kinematics,F,D,iphih,iphis,iupol,isiv,icol,qed_order=1,rotation=1,iphase=1):\n",
    "    phis=-np.pi + 2*np.pi*X[2]\n",
    "    phih=-np.pi + 2*np.pi*X[3]\n",
    "    kinematics[6] = np.cos(phih)\n",
    "    kinematics[7] = np.cos(phis)\n",
    "    kinematics[8] = np.sin(phih)\n",
    "    kinematics[9] = np.sin(phis)\n",
    "    \n",
    "    jac   = (2*np.pi)**2\n",
    "    if iphase==1:\n",
    "        phase = np.sin(iphih*phih+iphis*phis)*jac\n",
    "    else:\n",
    "         phase=1\n",
    "    if qed_order==0:\n",
    "        int0=get_int0(1,1,kinematics,iupol,isiv,icol,rotation)\n",
    "        out=int0*phase\n",
    "        \n",
    "    elif qed_order==1:\n",
    "        integrand0=get_integrand0(X,kinematics,F,D,iupol,isiv,icol,rotation)\n",
    "        out=integrand0*phase\n",
    "\n",
    "    if np.isnan(out):\n",
    "        out=0\n",
    "        print('get_integrand1 is giving NAN')\n",
    "    #print(phase,\"   befor phase after out \" \"   phase    ===\", iphase)\n",
    "    return out\n",
    "    \n"
   ]
  },
  {
   "cell_type": "code",
   "execution_count": 31,
   "id": "finnish-danish",
   "metadata": {},
   "outputs": [
    {
     "name": "stdout",
     "output_type": "stream",
     "text": [
      "   1   0.76    0.03188775510204078    131.57894736842104    8.30936444755732    0.9499999999999993   -1.2826305888347167e-54\n",
      "   1   0.77    0.030012004801920775    129.87012987012986    7.739827073514029    0.905882352941177   1.2521433709278398e-50\n",
      "   1   0.78    0.028344671201814033    128.2051282051282    7.233569845492679    0.866666666666666   4.405416061609234e-47\n",
      "   1   0.79    0.02685284640171859    126.58227848101265    6.780601504473126    0.8315789473684214   6.791820537613478e-44\n",
      "   1   0.8    0.025510204081632626    125.0    6.372928964344257    0.7999999999999995   5.555032416372078e-41\n",
      "   1   0.81    0.024295432458697763    123.45679012345678    6.004081577304113    0.7714285714285717   2.6790667141126534e-38\n",
      "   1   0.8200000000000001    0.023191094619666022    121.95121951219511    5.6687651388940425    0.7454545454545449   7.989535755649349e-36\n",
      "   1   0.8300000000000001    0.022182786157941434    120.48192771084337    5.3626061486917935    0.7217391304347828   1.5566689683619175e-33\n",
      "   1   0.8400000000000001    0.021258503401360523    119.04761904761904    5.08196000331094    0.6999999999999995   2.05153159251701e-31\n",
      "   1   0.8500000000000001    0.020408163265306117    117.6470588235294    4.823765221417434    0.6800000000000002   1.9050814714597556e-29\n",
      "   1   0.8600000000000001    0.019623233908948174    116.27906976744185    4.58543130800841    0.6615384615384611   1.2757490851811422e-27\n",
      "   1   0.8700000000000001    0.018896447467876037    114.94252873563217    4.3647515369755245    0.6444444444444446   6.351187596819243e-26\n",
      "   1   0.8800000000000001    0.018221574344023304    113.63636363636363    4.159834422587516    0.6285714285714282   2.4076009243084953e-24\n",
      "   1   0.8900000000000001    0.01759324419422941    112.35955056179773    3.9690493689124797    0.613793103448276   7.091063935256678e-23\n",
      "   1   0.9000000000000001    0.017006802721088416    111.1111111111111    3.790983189088128    0.5999999999999996   1.6571669703018351e-21\n",
      "   1   0.9100000000000001    0.01645819618169848    109.89010989010987    3.6244050400240275    0.5870967741935484   3.136011867620254e-20\n",
      "   1   0.9200000000000002    0.01594387755102039    108.69565217391303    3.4682379317056387    0.5749999999999996   4.867080219502595e-19\n",
      "   1   0.9300000000000002    0.015460729746444026    107.52688172043008    3.3215354165205584    0.5636363636363637   6.294354367398262e-18\n",
      "   1   0.9400000000000002    0.015006002400960368    106.38297872340424    3.183462392154936    0.5529411764705879   6.880049419826713e-17\n",
      "   1   0.9500000000000002    0.014577259475218653    105.26315789473682    3.0532791953633067    0.5428571428571429   6.445505658613442e-16\n",
      "   1   0.9600000000000002    0.014172335600907016    104.16666666666664    2.9303283467319683    0.533333333333333   5.22758147239573e-15\n",
      "   1   0.9700000000000002    0.01378929950358521    103.09278350515461    2.8140234449061072    0.5243243243243243   3.7083817794317606e-14\n",
      "   1   0.9800000000000002    0.013426423200859275    102.04081632653059    2.7038398143334303    0.5157894736842102   2.3242935957996145e-13\n",
      "   1   0.9900000000000002    0.01308215593929879    101.01010101010098    2.5993065917960085    0.5076923076923077   1.298210862040054e-12\n",
      "   1   1.0000000000000002    0.012755102040816313    99.99999999999997    2.4999999999461693    0.4999999999999997   6.515369168728603e-12\n"
     ]
    }
   ],
   "source": [
    "def test(rotation): \n",
    "    \n",
    "    rs  = 140\n",
    "    #x   = 0.01 # xb=0.32\n",
    "    z   = 0.5 #0.55\n",
    "    Q   =10\n",
    "    y=0.4\n",
    "    qT_Q= 0.5 #qT/Q \n",
    "    ### pt_square = 0.01 to 0.19 \n",
    "    \n",
    "    #sqrt(s) = 2(sqrt E_e x E_p)\n",
    "  \n",
    "    # FIXED ANGLE FOR UNPOLARIZED \n",
    "    phih = 0\n",
    "    phis = 0\n",
    "    iphih = 0  \n",
    "    iphis = 0   \n",
    "    \n",
    "    iupol = 1 \n",
    "    isiv  = 0 \n",
    "    icol  = 0\n",
    "    qed_order  = 1\n",
    "    dglap_order= 1\n",
    "    \n",
    "    if iupol==1:\n",
    "        iphase = 0\n",
    "    else:\n",
    "        iphase = 1\n",
    "\n",
    "    nbiter,nburn = 1,1000\n",
    "    neiter,neval = 1,10000\n",
    "    ftol=1e-2\n",
    "\n",
    "\n",
    "    \n",
    "    if qed_order==0:\n",
    "        RC_status=\"noQED\"\n",
    "    else: RC_status=\"QED\"\n",
    "\n",
    "   \n",
    "    #f = open(\"Unp_Q{}_rs140_const_alpha_QED_noROT.txt\".format(Q), \"w\")\n",
    "    while(qT_Q<0.52):\n",
    "        x   =Q**2/rs**2/y\n",
    "        qT  =qT_Q*Q\n",
    "        PhT =z*qT\n",
    "        ST  =1\n",
    "        kinematics=np.zeros(11)\n",
    "        kinematics[0] = rs**2\n",
    "        kinematics[1] = Q\n",
    "        kinematics[2] = x\n",
    "        kinematics[3] = y\n",
    "        kinematics[4] = z\n",
    "        kinematics[5] = PhT\n",
    "        \n",
    "        kinematics[6] = np.cos(phih)\n",
    "        kinematics[7] = np.cos(phis)\n",
    "        kinematics[8] = np.sin(phih)\n",
    "        kinematics[9] = np.sin(phis)\n",
    "        \n",
    "        kinematics[10]= ST\n",
    "        f_zeta=0.76\n",
    "        while f_zeta <1.01:\n",
    "            f_xi=1\n",
    "            #f_zeta=1\n",
    "            LO=get_int0(f_xi,f_zeta,kinematics,iupol,isiv,icol,rotation)\n",
    "            f_zeta+=0.01\n",
    "        qT_Q+=0.5;\n",
    "test(1)"
   ]
  },
  {
   "cell_type": "code",
   "execution_count": 5,
   "id": "personal-inventory",
   "metadata": {},
   "outputs": [
    {
     "name": "stdout",
     "output_type": "stream",
     "text": [
      "Pht insde main function  1.5\n",
      "36.596521615982056\n"
     ]
    }
   ],
   "source": [
    "\n",
    "  "
   ]
  },
  {
   "cell_type": "code",
   "execution_count": 22,
   "id": "bearing-cookbook",
   "metadata": {},
   "outputs": [
    {
     "name": "stdout",
     "output_type": "stream",
     "text": [
      "PhT   0.008359276284463866\n",
      "PhT   0.09195203912910252\n",
      "PhT   0.17554480197374117\n",
      "PhT   0.25913756481837985\n",
      "PhT   0.34273032766301853\n",
      "PhT   0.42632309050765715\n",
      "PhT   0.5099158533522957\n",
      "PhT   0.5935086161969344\n",
      "PhT   0.677101379041573\n",
      "PhT   0.7606941418862116\n",
      "Pht insde main function  0.7606941418862116\n"
     ]
    }
   ],
   "source": [
    "def test():\n",
    "    rs  =3.2\n",
    "    x   =0.32\n",
    "    z   =0.55\n",
    "    Q2 =2.31\n",
    "    Q   =np.sqrt(Q2)\n",
    "    maxval=1\n",
    "    qT_Q=0.01 ## is qT/Q\n",
    "    y   =Q**2/rs**2/x\n",
    "    PhT_temp=0\n",
    "    while qT_Q<maxval:\n",
    "        qT  =qT_Q*Q ## qT\n",
    "        PhT =z*qT\n",
    "        print(\"PhT  \",PhT)\n",
    "        if PhT>PhT_temp:\n",
    "            PhT_max=PhT\n",
    "            PhT_temp=PhT_max\n",
    "        qT_Q+=0.1\n",
    "    print(\"Pht insde main function \", PhT_max)\n",
    "test()"
   ]
  },
  {
   "cell_type": "markdown",
   "id": "opponent-soundtrack",
   "metadata": {},
   "source": [
    "## Reading the file in dataframe and writing and plotting columns in same plot "
   ]
  },
  {
   "cell_type": "code",
   "execution_count": null,
   "id": "nervous-praise",
   "metadata": {},
   "outputs": [],
   "source": [
    "def structure(xB,z,Q2,pht):\n",
    "    return FUU.get_FUU(xB,z,Q2,pht,'p','pi+') \n",
    "import matplotlib.pyplot as plt\n",
    "import pandas as pd\n",
    "def process_Duane_File():\n",
    "    os.chdir(\"/w/halla-scifs17exp/dvcs/disk1/bishnu/ForDuane\")\n",
    "    ############### FIRST PROCESS THE DUANE FILE ############\n",
    "    header_list=[\"zeta\", \"xB\", \"Q2\", \"pht\", \"z\"]\n",
    "    dfD=pd.read_csv(\"./Shift_EIC2_xi1.txt\",sep=\"\\t\",  header=None, names=header_list)\n",
    "    dfD['FUU']=dfD.apply(lambda x: structure(x['xB'],x['z'],x['Q2'],x['pht']),axis=1)\n",
    "    index = dfD.index\n",
    "    number_of_rows = len(index)\n",
    "    print(number_of_rows)\n",
    "    new_col = np.full((number_of_rows, 1), 1)\n",
    "    dfD.insert(loc=0, column='xi', value=new_col)\n",
    "    dfD.to_csv(\"Shift_kinematic_Duane.txt\", sep='\\t', index=False,  float_format='%.3e')\n",
    "############################\n",
    "\n",
    "def compare():\n",
    "    os.chdir(\"/w/halla-scifs17exp/dvcs/disk1/bishnu/ForDuane\")\n",
    "    header_list=[\"xi \",\"zeta\", \"xB\", \"Q2\", \"pht\", \"z\", \"FUU\"]\n",
    "    dfD=pd.read_csv(\"./Shift_kinematic_Duane.txt\",sep=\"\\t\")\n",
    "    #dfB=pd.read_csv(\"./shift_RC_bishnu.txt\",sep='\\t', header=None)\n",
    "    dfB=pd.read_csv(r'shift_RC_bishnu.txt', sep='\\s+', header=None, names=header_list)\n",
    "    pd.set_option('display.float_format','{:.3e}'.format)\n",
    "   \n",
    "   \n",
    "    #dfD.scatter(dfD['zeta'], dfD['FUU'])\n",
    "    ax=dfD.plot(x='zeta', y='FUU',style='o')\n",
    "    dfB.plot(x='zeta', y='FUU',style='*', ax=ax)\n",
    "    #dfD.head(5)\n",
    "    #print(dfB)\n",
    "    #print(dfB)\n",
    "#process_Duane_File()\n",
    "compare()"
   ]
  },
  {
   "cell_type": "markdown",
   "id": "super-tours",
   "metadata": {},
   "source": [
    "## OK next lets integrate to get cross section"
   ]
  },
  {
   "cell_type": "code",
   "execution_count": 80,
   "id": "strategic-complexity",
   "metadata": {},
   "outputs": [
    {
     "name": "stdout",
     "output_type": "stream",
     "text": [
      "    xi      zeta        xB        Q2       pht         z        FUU\n",
      "0    1 7.600e-01 3.189e-02 1.316e+02 8.309e+00 9.500e-01 -1.283e-54\n",
      "1    1 7.700e-01 3.001e-02 1.299e+02 7.740e+00 9.059e-01  1.252e-50\n",
      "2    1 7.800e-01 2.834e-02 1.282e+02 7.234e+00 8.667e-01  4.406e-47\n",
      "3    1 7.900e-01 2.685e-02 1.266e+02 6.781e+00 8.316e-01  6.792e-44\n",
      "4    1 8.000e-01 2.551e-02 1.250e+02 6.373e+00 8.000e-01  5.555e-41\n",
      "5    1 8.100e-01 2.430e-02 1.235e+02 6.004e+00 7.714e-01  2.679e-38\n",
      "6    1 8.200e-01 2.319e-02 1.220e+02 5.669e+00 7.455e-01  7.989e-36\n",
      "7    1 8.300e-01 2.218e-02 1.205e+02 5.363e+00 7.217e-01  1.556e-33\n",
      "8    1 8.400e-01 2.126e-02 1.190e+02 5.082e+00 7.000e-01  2.052e-31\n",
      "9    1 8.500e-01 2.041e-02 1.176e+02 4.824e+00 6.800e-01  1.905e-29\n",
      "10   1 8.600e-01 1.962e-02 1.163e+02 4.585e+00 6.615e-01  1.276e-27\n",
      "11   1 8.700e-01 1.890e-02 1.149e+02 4.365e+00 6.444e-01  6.351e-26\n",
      "12   1 8.800e-01 1.822e-02 1.136e+02 4.160e+00 6.286e-01  2.408e-24\n",
      "13   1 8.900e-01 1.759e-02 1.124e+02 3.969e+00 6.138e-01  7.091e-23\n",
      "14   1 9.000e-01 1.701e-02 1.111e+02 3.791e+00 6.000e-01  1.657e-21\n",
      "15   1 9.100e-01 1.646e-02 1.099e+02 3.624e+00 5.871e-01  3.136e-20\n",
      "16   1 9.200e-01 1.594e-02 1.087e+02 3.468e+00 5.750e-01  4.867e-19\n",
      "17   1 9.300e-01 1.546e-02 1.075e+02 3.322e+00 5.636e-01  6.294e-18\n",
      "18   1 9.400e-01 1.501e-02 1.064e+02 3.183e+00 5.529e-01  6.880e-17\n",
      "19   1 9.500e-01 1.458e-02 1.053e+02 3.053e+00 5.429e-01  6.445e-16\n",
      "20   1 9.600e-01 1.417e-02 1.042e+02 2.930e+00 5.333e-01  5.227e-15\n",
      "21   1 9.700e-01 1.379e-02 1.031e+02 2.814e+00 5.243e-01  3.709e-14\n",
      "22   1 9.800e-01 1.343e-02 1.020e+02 2.704e+00 5.158e-01  2.324e-13\n",
      "23   1 9.900e-01 1.308e-02 1.010e+02 2.599e+00 5.077e-01  1.298e-12\n",
      "24   1 1.000e+00 1.276e-02 1.000e+02 2.500e+00 5.000e-01  6.515e-12\n"
     ]
    }
   ],
   "source": [
    "print(dfD)\n",
    "   \n"
   ]
  },
  {
   "cell_type": "markdown",
   "id": "turned-battery",
   "metadata": {},
   "source": [
    "## At fixed angles phi_h\n"
   ]
  },
  {
   "cell_type": "code",
   "execution_count": 35,
   "id": "sporting-floating",
   "metadata": {},
   "outputs": [
    {
     "name": "stdout",
     "output_type": "stream",
     "text": [
      "-1.2951910275524616e-54\n"
     ]
    }
   ],
   "source": [
    "\n",
    "print(FUU.get_FUU(0.031888,0.95000, 131.57, 8.309,'p','pi+'))"
   ]
  },
  {
   "cell_type": "markdown",
   "id": "raising-china",
   "metadata": {},
   "source": [
    "#### Calulation for RC factor at fixed phi_h (Geve Sqrt(s), y, z, Q, qT_Q)"
   ]
  },
  {
   "cell_type": "code",
   "execution_count": null,
   "id": "structured-mortgage",
   "metadata": {},
   "outputs": [],
   "source": [
    "\n",
    "    "
   ]
  },
  {
   "cell_type": "markdown",
   "id": "patent-member",
   "metadata": {},
   "source": [
    "#  For JLab kinematics ( Electron beam energy 5.479 and E'=1.702 GeV"
   ]
  },
  {
   "cell_type": "code",
   "execution_count": 8,
   "id": "going-overhead",
   "metadata": {},
   "outputs": [
    {
     "data": {
      "text/plain": [
       "array([[1., 0., 0.],\n",
       "       [0., 1., 0.],\n",
       "       [0., 0., 1.]])"
      ]
     },
     "execution_count": 8,
     "metadata": {},
     "output_type": "execute_result"
    }
   ],
   "source": [
    "import numpy as np\n",
    "I=np.identity(3)\n",
    "I\n",
    "\n",
    "      "
   ]
  },
  {
   "cell_type": "code",
   "execution_count": null,
   "id": "educated-atmosphere",
   "metadata": {},
   "outputs": [],
   "source": []
  },
  {
   "cell_type": "markdown",
   "id": "forbidden-preview",
   "metadata": {},
   "source": [
    "### This is for the asymmetry (Collins and Sievers)"
   ]
  },
  {
   "cell_type": "code",
   "execution_count": null,
   "id": "surface-comedy",
   "metadata": {},
   "outputs": [],
   "source": [
    "     \n",
    "          \n",
    "      "
   ]
  },
  {
   "cell_type": "markdown",
   "id": "determined-retention",
   "metadata": {},
   "source": [
    "\n",
    "### Below this are the test I am doing to understand the code"
   ]
  },
  {
   "cell_type": "code",
   "execution_count": 1,
   "id": "simplified-withdrawal",
   "metadata": {},
   "outputs": [
    {
     "ename": "SyntaxError",
     "evalue": "invalid syntax (<ipython-input-1-944cdf07cf04>, line 5)",
     "output_type": "error",
     "traceback": [
      "\u001b[0;36m  File \u001b[0;32m\"<ipython-input-1-944cdf07cf04>\"\u001b[0;36m, line \u001b[0;32m5\u001b[0m\n\u001b[0;31m    for i, j in ragne(0,5,1) range(5,10,1)\u001b[0m\n\u001b[0m                             ^\u001b[0m\n\u001b[0;31mSyntaxError\u001b[0m\u001b[0;31m:\u001b[0m invalid syntax\n"
     ]
    }
   ],
   "source": [
    "for i in range(6):\n",
    "    print(i,sep=' ',end=' ',flush=True)\n",
    "mean,std=np.empty(2)\n",
    "print(mean,\" \",std)\n",
    "for i, j in ragne(0,5,1) range(5,10,1)"
   ]
  },
  {
   "cell_type": "markdown",
   "id": "killing-daniel",
   "metadata": {},
   "source": [
    "### "
   ]
  },
  {
   "cell_type": "markdown",
   "id": "smart-attention",
   "metadata": {},
   "source": [
    "import pandas as pd\n",
    "import matplotlib.pyplot as plt\n",
    "import matplotlib.ticker as ticker\n",
    "#with open('/u/home/karki/QEDSIDIS-main/Q10_UnPolarized.txt') as f:\n",
    "#    contents = f.read()\n",
    "#    print(contents)\n",
    "#filename1=\"/u/home/karki/QEDSIDIS-main/Q10_UnPolarized.txt\"\n",
    "df =      pd.read_csv('/u/home/karki/QEDSIDIS-main/Q10_UnPolarized.txt', delimiter=\" \",header=None)\n",
    "df_noRC = pd.read_csv', delimiter=\" \",header=None)\n",
    "df.columns = [\"qT_Q\", \"sigma_1\", \"E_sigma\"]\n",
    "df_noRC.columns=[\"qT_Q\",\"sigma_0\",\"Esingma0\"]\n",
    "print(df_noRC)\n",
    "fig, ax = plt.subplots()\n",
    "#ax.plot(df['qT_Q'],df['sigma_0'].div(df['sigma_1']), label='points')\n",
    "#ax.plot(df['qT_Q'],df['sigma_0'], label='points')\n",
    "#ax.plot(X=\"qT_Q\",Y=\"sigma_0\")\n",
    "\n",
    "#tick_spacing = 1\n",
    "#ax.xaxis.set_major_locator(ticker.MultipleLocator(tick_spacing))\n",
    "#df.columns = [\"x\", \"y1\", \"y2\"]\n",
    "#qT_Q,sigma_1,E_sigma_1=np.genfromtxt(filename1, delimiter=\" \" , dtype= None  )\n",
    "#np.loadtxt(\"./Q10_UnPolarized.txt\",  dtype={'names': ('qT_Q', 'sigma_1', 'E_sigma'), 'formats': ('f4', 'f4', 'f4') },  delimiter=' ', skiprows=0)\n",
    "'''\n",
    "plt.plot(qT_Q,sigma_1, label='Loaded from file!')\n",
    "\n",
    "plt.xlabel('qT_Q')\n",
    "plt.ylabel('sigma_1')\n",
    "plt.title('sigma')\n",
    "plt.legend()\n",
    "'''"
   ]
  },
  {
   "cell_type": "markdown",
   "id": "above-prospect",
   "metadata": {},
   "source": [
    "rs  = 140\n",
    "x   = 0.01\n",
    "z   = 0.5\n",
    "Q   = 10\n",
    "\n",
    "qT_Q= 0.05 #qT/Q\n",
    "#y   =Q**2/rs**2/x\n",
    "y=0.4\n",
    "xB=Q**2/rs**2/y\n",
    "print(xB)"
   ]
  },
  {
   "cell_type": "code",
   "execution_count": 4,
   "id": "smooth-apple",
   "metadata": {},
   "outputs": [
    {
     "name": "stdout",
     "output_type": "stream",
     "text": [
      "I am from else\n"
     ]
    }
   ],
   "source": [
    "import numpy as np\n",
    "def charge_conj(p):\n",
    "    out=np.zeros(len(p))\n",
    "    cnt=0\n",
    "    for i in [0,2,1,4,3,6,5,8,7,10,9]:\n",
    "        out[cnt]=p[i]\n",
    "        cnt+=1\n",
    "    return out\n",
    "#charge_conj(5)\n",
    "had='pi-'\n",
    "if had.endswith('+'):\n",
    "    print('You are right sir')\n",
    "else :\n",
    "    print('I am from else')"
   ]
  },
  {
   "cell_type": "code",
   "execution_count": 21,
   "id": "careful-neighbor",
   "metadata": {},
   "outputs": [
    {
     "ename": "NameError",
     "evalue": "name 'bins' is not defined",
     "output_type": "error",
     "traceback": [
      "\u001b[0;31m---------------------------------------------------------------------------\u001b[0m",
      "\u001b[0;31mNameError\u001b[0m                                 Traceback (most recent call last)",
      "\u001b[0;32m<ipython-input-21-e4d5f71c7776>\u001b[0m in \u001b[0;36m<module>\u001b[0;34m\u001b[0m\n\u001b[1;32m     20\u001b[0m \u001b[0my_bins\u001b[0m\u001b[0;34m=\u001b[0m\u001b[0mx_bins\u001b[0m\u001b[0;34m\u001b[0m\u001b[0;34m\u001b[0m\u001b[0m\n\u001b[1;32m     21\u001b[0m \u001b[0;31m#print(iphih*phih, \"   \", iphis*phis, \" \",-np.pi)\u001b[0m\u001b[0;34m\u001b[0m\u001b[0;34m\u001b[0m\u001b[0;34m\u001b[0m\u001b[0m\n\u001b[0;32m---> 22\u001b[0;31m \u001b[0mplt\u001b[0m\u001b[0;34m.\u001b[0m\u001b[0mhist\u001b[0m\u001b[0;34m(\u001b[0m\u001b[0mphase1\u001b[0m\u001b[0;34m,\u001b[0m \u001b[0mbins\u001b[0m\u001b[0;34m,\u001b[0m \u001b[0malpha\u001b[0m\u001b[0;34m=\u001b[0m\u001b[0;36m0.5\u001b[0m\u001b[0;34m,\u001b[0m \u001b[0mlabel\u001b[0m\u001b[0;34m=\u001b[0m\u001b[0;34m'phih'\u001b[0m\u001b[0;34m)\u001b[0m\u001b[0;34m\u001b[0m\u001b[0;34m\u001b[0m\u001b[0m\n\u001b[0m\u001b[1;32m     23\u001b[0m \u001b[0mplt\u001b[0m\u001b[0;34m.\u001b[0m\u001b[0mhist\u001b[0m\u001b[0;34m(\u001b[0m\u001b[0mphase2\u001b[0m\u001b[0;34m,\u001b[0m \u001b[0mbins\u001b[0m\u001b[0;34m,\u001b[0m \u001b[0malpha\u001b[0m\u001b[0;34m=\u001b[0m\u001b[0;36m0.5\u001b[0m\u001b[0;34m,\u001b[0m \u001b[0mlabel\u001b[0m\u001b[0;34m=\u001b[0m\u001b[0;34m'phis'\u001b[0m\u001b[0;34m)\u001b[0m\u001b[0;34m\u001b[0m\u001b[0;34m\u001b[0m\u001b[0m\n\u001b[1;32m     24\u001b[0m \u001b[0mplt\u001b[0m\u001b[0;34m.\u001b[0m\u001b[0mhist2d\u001b[0m\u001b[0;34m(\u001b[0m\u001b[0mphase1\u001b[0m\u001b[0;34m,\u001b[0m\u001b[0mphase2\u001b[0m\u001b[0;34m,\u001b[0m \u001b[0mbins\u001b[0m\u001b[0;34m=\u001b[0m\u001b[0;34m[\u001b[0m\u001b[0mx_bins\u001b[0m\u001b[0;34m,\u001b[0m\u001b[0my_bins\u001b[0m\u001b[0;34m]\u001b[0m\u001b[0;34m,\u001b[0m\u001b[0mcmap\u001b[0m \u001b[0;34m=\u001b[0m \u001b[0mplt\u001b[0m\u001b[0;34m.\u001b[0m\u001b[0mcm\u001b[0m\u001b[0;34m.\u001b[0m\u001b[0mnipy_spectral\u001b[0m\u001b[0;34m)\u001b[0m\u001b[0;34m\u001b[0m\u001b[0;34m\u001b[0m\u001b[0m\n",
      "\u001b[0;31mNameError\u001b[0m: name 'bins' is not defined"
     ]
    }
   ],
   "source": [
    "import matplotlib.pyplot as plt\n",
    "import numpy as np\n",
    "iphih = 1\n",
    "iphis =-1\n",
    "jac   = (2*np.pi)**2\n",
    "X=np.random.uniform(0,1,(4,10000))\n",
    "for x in X:\n",
    "    phis=-np.pi + 2*np.pi*X[2]\n",
    "    phih=-np.pi + 2*np.pi*X[3]\n",
    "    phase = np.sin(iphih*phih+iphis*phis)*jac\n",
    "    phase1=iphih*phih\n",
    "    phase2=iphis*phis\n",
    "\n",
    "#kinematics[6] = np.cos(phih)\n",
    "#kinematics[7] = np.cos(phis)\n",
    "#kinematics[8] = np.sin(phih)\n",
    "#kinematics[9] = np.sin(phis)\n",
    "#jac   = (2*np.pi)**2\n",
    "x_bins = np.linspace(-10,10,100)\n",
    "y_bins=x_bins\n",
    "#print(iphih*phih, \"   \", iphis*phis, \" \",-np.pi)\n",
    "plt.hist(phase1, bins, alpha=0.5, label='phih')\n",
    "plt.hist(phase2, bins, alpha=0.5, label='phis')\n",
    "plt.hist2d(phase1,phase2, bins=[x_bins,y_bins],cmap = plt.cm.nipy_spectral)\n",
    "#plt.plot(phase1,phase2, marker='*',markersize=10, linestyle='None')\n",
    "#plt.xlabel('phih')\n",
    "plt.colorbar()\n",
    "#plt.show()"
   ]
  },
  {
   "cell_type": "code",
   "execution_count": null,
   "id": "geological-wyoming",
   "metadata": {},
   "outputs": [],
   "source": [
    "import alfa\n",
    "import matplotlib.pyplot as plt\n",
    "import numpy as np\n",
    "Q2=0.1\n",
    "norm0=[]\n",
    "norm1=[]\n",
    "Q2_plot=[]\n",
    "val=alfa.get_alfa(Q2)**2\n",
    "print((val-par.alfa0**2)*100/par.alfa0**2)\n",
    "\n",
    "while Q2<6:\n",
    "    \n",
    "    norm0.append(par.alfa0)\n",
    "    norm1.append(100*alfa.get_alfa(Q2))#/par.alfa0)\n",
    "    Q2_plot.append(Q2)\n",
    "    Q2+=0.5\n",
    "    \n",
    "fig, ax = plt.subplots()\n",
    "#plt.scatter(Q2_plot, norm0, c='b', marker='x', label='1')\n",
    "ax.plot(Q2_plot, norm1, c='r', marker='o', label='running ' )\n",
    "\n",
    "#ax.plot( Q2_plot, norm1,'r--',label=' norm1')\n",
    "ax.yaxis.label.set_size(20)\n",
    "\n",
    "ax.tick_params(axis=\"y\", labelsize=15)\n",
    "ax.tick_params(axis=\"x\", labelsize=15)\n",
    "#ax.set_xscale('log')\n",
    "#ax.set_yticks(norm1)\n",
    "#ax.set_yticklabels(norm1,fontsize=18)\n",
    "'''\n",
    "ax.set_ylim(0.00001,1)\n",
    "#ax.set_yticklabels('{0:.3f}'.format(FUU_nomod),fontsize=15)\n",
    " \n",
    "ax.set_yticklabels(norm1,fontsize=18)\n",
    "'''\n",
    "plt.show()\n",
    "print(\" check this   \",1/alfa.get_alfa(12.25) - 1/alfa.get_alfa(3434))\n",
    "\n"
   ]
  },
  {
   "cell_type": "code",
   "execution_count": null,
   "id": "suffering-deposit",
   "metadata": {},
   "outputs": [],
   "source": [
    "fig,axe=plt.subplots()\n",
    "plt.hist(np.random.randn(100))\n",
    "plt.savefig(\"kera.pdf\")"
   ]
  },
  {
   "cell_type": "code",
   "execution_count": 13,
   "id": "outdoor-prototype",
   "metadata": {},
   "outputs": [
    {
     "name": "stdout",
     "output_type": "stream",
     "text": [
      "1.7942583732057416\n",
      "1.4134275618374559\n",
      "1.0335917312661498\n",
      "1.0\n",
      "0.6\n",
      "0.3\n"
     ]
    }
   ],
   "source": [
    "import numpy as np\n",
    "iupol = 1 \n",
    "isiv  = 0 \n",
    "icol  = 0\n",
    "qed_order  = 0\n",
    "dglap_order= 1\n",
    "rotation   = 0\n",
    "z=[0.55, 0.375, 0.375, 0.5, 0.5, 0.5]\n",
    "Q=[1.52, 2.83, 3.87, 3,5,10]\n",
    "PhT=1.5\n",
    "for i, j in zip(z,Q):\n",
    "    #print(z,\"    \",Q)\n",
    "    qT=PhT/np.asarray(i)\n",
    "    qT_Q  =qT/np.asarray(j)\n",
    "    print(qT_Q)\n"
   ]
  },
  {
   "cell_type": "code",
   "execution_count": 42,
   "id": "posted-particular",
   "metadata": {},
   "outputs": [
    {
     "name": "stdout",
     "output_type": "stream",
     "text": [
      "11.0592  counts \n"
     ]
    }
   ],
   "source": [
    "rate=320\n",
    "window=36 \n",
    "rate=rate*1e3\n",
    "window =window*1e-9\n",
    "pixels=960\n",
    "Npe=rate*window*pixels # count s-1* s\n",
    "print(Npe,\" counts \")\n"
   ]
  },
  {
   "cell_type": "code",
   "execution_count": 19,
   "id": "approximate-begin",
   "metadata": {},
   "outputs": [
    {
     "name": "stdout",
     "output_type": "stream",
     "text": [
      "1.5\n"
     ]
    }
   ],
   "source": [
    "import numpy as np\n",
    "#print(np.sqrt(1.5))\n",
    "#print(1.5**2)\n",
    "qT_Q=0.6\n",
    "Q=5\n",
    "z=0.5\n",
    "qT  =qT_Q*Q\n",
    "PhT =z*qT\n",
    "print(PhT)"
   ]
  },
  {
   "cell_type": "code",
   "execution_count": 21,
   "id": "dressed-winter",
   "metadata": {},
   "outputs": [
    {
     "data": {
      "text/plain": [
       "0.029025000000000002"
      ]
     },
     "execution_count": 21,
     "metadata": {},
     "output_type": "execute_result"
    }
   ],
   "source": [
    "0.02*3.87*0.375"
   ]
  },
  {
   "cell_type": "code",
   "execution_count": null,
   "id": "skilled-joyce",
   "metadata": {},
   "outputs": [],
   "source": []
  }
 ],
 "metadata": {
  "kernelspec": {
   "display_name": "Python 3",
   "language": "python",
   "name": "python3"
  },
  "language_info": {
   "codemirror_mode": {
    "name": "ipython",
    "version": 3
   },
   "file_extension": ".py",
   "mimetype": "text/x-python",
   "name": "python",
   "nbconvert_exporter": "python",
   "pygments_lexer": "ipython3",
   "version": "3.8.6"
  }
 },
 "nbformat": 4,
 "nbformat_minor": 5
}
